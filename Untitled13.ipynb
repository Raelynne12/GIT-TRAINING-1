{
  "nbformat": 4,
  "nbformat_minor": 0,
  "metadata": {
    "colab": {
      "name": "Untitled13.ipynb",
      "provenance": [],
      "authorship_tag": "ABX9TyP6w7B6RIglfl94j8KJRjCo",
      "include_colab_link": true
    },
    "kernelspec": {
      "name": "python3",
      "display_name": "Python 3"
    },
    "language_info": {
      "name": "python"
    }
  },
  "cells": [
    {
      "cell_type": "markdown",
      "metadata": {
        "id": "view-in-github",
        "colab_type": "text"
      },
      "source": [
        "<a href=\"https://colab.research.google.com/github/Raelynne12/GIT-TRAINING-1/blob/master/Untitled13.ipynb\" target=\"_parent\"><img src=\"https://colab.research.google.com/assets/colab-badge.svg\" alt=\"Open In Colab\"/></a>"
      ]
    },
    {
      "cell_type": "code",
      "execution_count": null,
      "metadata": {
        "id": "OvJxxt5tLxRF",
        "outputId": "f5aa660a-96e0-47ff-e95e-deaf4743e8f3",
        "colab": {
          "base_uri": "https://localhost:8080/"
        }
      },
      "outputs": [
        {
          "output_type": "stream",
          "name": "stdout",
          "text": [
            "12\n"
          ]
        }
      ],
      "source": [
        "print(12)"
      ]
    },
    {
      "cell_type": "code",
      "source": [
        "#오늘은 프로그래밍말고 벌거벗은 통계학 책 읽음\n",
        "#추후에 차근차근 블로그에 올릴 예전\n",
        "\n",
        "# 지니계수 (국가별 소득평균비율 \n",
        "# 0이면 아주 평등/1이면 아주 불평등\n",
        "\n",
        "# 데이터 과학자 되는 법\n"
      ],
      "metadata": {
        "id": "AwVyVrzDfrBV"
      },
      "execution_count": 1,
      "outputs": []
    },
    {
      "cell_type": "code",
      "source": [
        "!pip install selenium"
      ],
      "metadata": {
        "colab": {
          "base_uri": "https://localhost:8080/"
        },
        "id": "GMQWN2lfZFD1",
        "outputId": "9ebcefd7-b1e2-493b-f690-76981c1c08be"
      },
      "execution_count": null,
      "outputs": [
        {
          "output_type": "stream",
          "name": "stdout",
          "text": [
            "Collecting selenium\n",
            "  Downloading selenium-4.1.0-py3-none-any.whl (958 kB)\n",
            "\u001b[?25l\r\u001b[K     |▍                               | 10 kB 17.3 MB/s eta 0:00:01\r\u001b[K     |▊                               | 20 kB 22.4 MB/s eta 0:00:01\r\u001b[K     |█                               | 30 kB 14.9 MB/s eta 0:00:01\r\u001b[K     |█▍                              | 40 kB 11.2 MB/s eta 0:00:01\r\u001b[K     |█▊                              | 51 kB 10.2 MB/s eta 0:00:01\r\u001b[K     |██                              | 61 kB 10.9 MB/s eta 0:00:01\r\u001b[K     |██▍                             | 71 kB 9.9 MB/s eta 0:00:01\r\u001b[K     |██▊                             | 81 kB 10.9 MB/s eta 0:00:01\r\u001b[K     |███                             | 92 kB 11.6 MB/s eta 0:00:01\r\u001b[K     |███▍                            | 102 kB 11.6 MB/s eta 0:00:01\r\u001b[K     |███▊                            | 112 kB 11.6 MB/s eta 0:00:01\r\u001b[K     |████                            | 122 kB 11.6 MB/s eta 0:00:01\r\u001b[K     |████▍                           | 133 kB 11.6 MB/s eta 0:00:01\r\u001b[K     |████▉                           | 143 kB 11.6 MB/s eta 0:00:01\r\u001b[K     |█████▏                          | 153 kB 11.6 MB/s eta 0:00:01\r\u001b[K     |█████▌                          | 163 kB 11.6 MB/s eta 0:00:01\r\u001b[K     |█████▉                          | 174 kB 11.6 MB/s eta 0:00:01\r\u001b[K     |██████▏                         | 184 kB 11.6 MB/s eta 0:00:01\r\u001b[K     |██████▌                         | 194 kB 11.6 MB/s eta 0:00:01\r\u001b[K     |██████▉                         | 204 kB 11.6 MB/s eta 0:00:01\r\u001b[K     |███████▏                        | 215 kB 11.6 MB/s eta 0:00:01\r\u001b[K     |███████▌                        | 225 kB 11.6 MB/s eta 0:00:01\r\u001b[K     |███████▉                        | 235 kB 11.6 MB/s eta 0:00:01\r\u001b[K     |████████▏                       | 245 kB 11.6 MB/s eta 0:00:01\r\u001b[K     |████████▌                       | 256 kB 11.6 MB/s eta 0:00:01\r\u001b[K     |████████▉                       | 266 kB 11.6 MB/s eta 0:00:01\r\u001b[K     |█████████▎                      | 276 kB 11.6 MB/s eta 0:00:01\r\u001b[K     |█████████▋                      | 286 kB 11.6 MB/s eta 0:00:01\r\u001b[K     |██████████                      | 296 kB 11.6 MB/s eta 0:00:01\r\u001b[K     |██████████▎                     | 307 kB 11.6 MB/s eta 0:00:01\r\u001b[K     |██████████▋                     | 317 kB 11.6 MB/s eta 0:00:01\r\u001b[K     |███████████                     | 327 kB 11.6 MB/s eta 0:00:01\r\u001b[K     |███████████▎                    | 337 kB 11.6 MB/s eta 0:00:01\r\u001b[K     |███████████▋                    | 348 kB 11.6 MB/s eta 0:00:01\r\u001b[K     |████████████                    | 358 kB 11.6 MB/s eta 0:00:01\r\u001b[K     |████████████▎                   | 368 kB 11.6 MB/s eta 0:00:01\r\u001b[K     |████████████▋                   | 378 kB 11.6 MB/s eta 0:00:01\r\u001b[K     |█████████████                   | 389 kB 11.6 MB/s eta 0:00:01\r\u001b[K     |█████████████▎                  | 399 kB 11.6 MB/s eta 0:00:01\r\u001b[K     |█████████████▊                  | 409 kB 11.6 MB/s eta 0:00:01\r\u001b[K     |██████████████                  | 419 kB 11.6 MB/s eta 0:00:01\r\u001b[K     |██████████████▍                 | 430 kB 11.6 MB/s eta 0:00:01\r\u001b[K     |██████████████▊                 | 440 kB 11.6 MB/s eta 0:00:01\r\u001b[K     |███████████████                 | 450 kB 11.6 MB/s eta 0:00:01\r\u001b[K     |███████████████▍                | 460 kB 11.6 MB/s eta 0:00:01\r\u001b[K     |███████████████▊                | 471 kB 11.6 MB/s eta 0:00:01\r\u001b[K     |████████████████                | 481 kB 11.6 MB/s eta 0:00:01\r\u001b[K     |████████████████▍               | 491 kB 11.6 MB/s eta 0:00:01\r\u001b[K     |████████████████▊               | 501 kB 11.6 MB/s eta 0:00:01\r\u001b[K     |█████████████████               | 512 kB 11.6 MB/s eta 0:00:01\r\u001b[K     |█████████████████▍              | 522 kB 11.6 MB/s eta 0:00:01\r\u001b[K     |█████████████████▊              | 532 kB 11.6 MB/s eta 0:00:01\r\u001b[K     |██████████████████▏             | 542 kB 11.6 MB/s eta 0:00:01\r\u001b[K     |██████████████████▌             | 552 kB 11.6 MB/s eta 0:00:01\r\u001b[K     |██████████████████▉             | 563 kB 11.6 MB/s eta 0:00:01\r\u001b[K     |███████████████████▏            | 573 kB 11.6 MB/s eta 0:00:01\r\u001b[K     |███████████████████▌            | 583 kB 11.6 MB/s eta 0:00:01\r\u001b[K     |███████████████████▉            | 593 kB 11.6 MB/s eta 0:00:01\r\u001b[K     |████████████████████▏           | 604 kB 11.6 MB/s eta 0:00:01\r\u001b[K     |████████████████████▌           | 614 kB 11.6 MB/s eta 0:00:01\r\u001b[K     |████████████████████▉           | 624 kB 11.6 MB/s eta 0:00:01\r\u001b[K     |█████████████████████▏          | 634 kB 11.6 MB/s eta 0:00:01\r\u001b[K     |█████████████████████▌          | 645 kB 11.6 MB/s eta 0:00:01\r\u001b[K     |█████████████████████▉          | 655 kB 11.6 MB/s eta 0:00:01\r\u001b[K     |██████████████████████▏         | 665 kB 11.6 MB/s eta 0:00:01\r\u001b[K     |██████████████████████▋         | 675 kB 11.6 MB/s eta 0:00:01\r\u001b[K     |███████████████████████         | 686 kB 11.6 MB/s eta 0:00:01\r\u001b[K     |███████████████████████▎        | 696 kB 11.6 MB/s eta 0:00:01\r\u001b[K     |███████████████████████▋        | 706 kB 11.6 MB/s eta 0:00:01\r\u001b[K     |████████████████████████        | 716 kB 11.6 MB/s eta 0:00:01\r\u001b[K     |████████████████████████▎       | 727 kB 11.6 MB/s eta 0:00:01\r\u001b[K     |████████████████████████▋       | 737 kB 11.6 MB/s eta 0:00:01\r\u001b[K     |█████████████████████████       | 747 kB 11.6 MB/s eta 0:00:01\r\u001b[K     |█████████████████████████▎      | 757 kB 11.6 MB/s eta 0:00:01\r\u001b[K     |█████████████████████████▋      | 768 kB 11.6 MB/s eta 0:00:01\r\u001b[K     |██████████████████████████      | 778 kB 11.6 MB/s eta 0:00:01\r\u001b[K     |██████████████████████████▎     | 788 kB 11.6 MB/s eta 0:00:01\r\u001b[K     |██████████████████████████▋     | 798 kB 11.6 MB/s eta 0:00:01\r\u001b[K     |███████████████████████████     | 808 kB 11.6 MB/s eta 0:00:01\r\u001b[K     |███████████████████████████▍    | 819 kB 11.6 MB/s eta 0:00:01\r\u001b[K     |███████████████████████████▊    | 829 kB 11.6 MB/s eta 0:00:01\r\u001b[K     |████████████████████████████    | 839 kB 11.6 MB/s eta 0:00:01\r\u001b[K     |████████████████████████████▍   | 849 kB 11.6 MB/s eta 0:00:01\r\u001b[K     |████████████████████████████▊   | 860 kB 11.6 MB/s eta 0:00:01\r\u001b[K     |█████████████████████████████   | 870 kB 11.6 MB/s eta 0:00:01\r\u001b[K     |█████████████████████████████▍  | 880 kB 11.6 MB/s eta 0:00:01\r\u001b[K     |█████████████████████████████▊  | 890 kB 11.6 MB/s eta 0:00:01\r\u001b[K     |██████████████████████████████  | 901 kB 11.6 MB/s eta 0:00:01\r\u001b[K     |██████████████████████████████▍ | 911 kB 11.6 MB/s eta 0:00:01\r\u001b[K     |██████████████████████████████▊ | 921 kB 11.6 MB/s eta 0:00:01\r\u001b[K     |███████████████████████████████ | 931 kB 11.6 MB/s eta 0:00:01\r\u001b[K     |███████████████████████████████▍| 942 kB 11.6 MB/s eta 0:00:01\r\u001b[K     |███████████████████████████████▉| 952 kB 11.6 MB/s eta 0:00:01\r\u001b[K     |████████████████████████████████| 958 kB 11.6 MB/s \n",
            "\u001b[?25hCollecting trio~=0.17\n",
            "  Downloading trio-0.19.0-py3-none-any.whl (356 kB)\n",
            "\u001b[K     |████████████████████████████████| 356 kB 48.0 MB/s \n",
            "\u001b[?25hCollecting urllib3[secure]~=1.26\n",
            "  Downloading urllib3-1.26.8-py2.py3-none-any.whl (138 kB)\n",
            "\u001b[K     |████████████████████████████████| 138 kB 51.2 MB/s \n",
            "\u001b[?25hCollecting trio-websocket~=0.9\n",
            "  Downloading trio_websocket-0.9.2-py3-none-any.whl (16 kB)\n",
            "Requirement already satisfied: attrs>=19.2.0 in /usr/local/lib/python3.7/dist-packages (from trio~=0.17->selenium) (21.4.0)\n",
            "Requirement already satisfied: idna in /usr/local/lib/python3.7/dist-packages (from trio~=0.17->selenium) (2.10)\n",
            "Collecting async-generator>=1.9\n",
            "  Downloading async_generator-1.10-py3-none-any.whl (18 kB)\n",
            "Requirement already satisfied: sortedcontainers in /usr/local/lib/python3.7/dist-packages (from trio~=0.17->selenium) (2.4.0)\n",
            "Collecting sniffio\n",
            "  Downloading sniffio-1.2.0-py3-none-any.whl (10 kB)\n",
            "Collecting outcome\n",
            "  Downloading outcome-1.1.0-py2.py3-none-any.whl (9.7 kB)\n",
            "Collecting wsproto>=0.14\n",
            "  Downloading wsproto-1.0.0-py3-none-any.whl (24 kB)\n",
            "Collecting pyOpenSSL>=0.14\n",
            "  Downloading pyOpenSSL-22.0.0-py2.py3-none-any.whl (55 kB)\n",
            "\u001b[K     |████████████████████████████████| 55 kB 3.0 MB/s \n",
            "\u001b[?25hRequirement already satisfied: certifi in /usr/local/lib/python3.7/dist-packages (from urllib3[secure]~=1.26->selenium) (2021.10.8)\n",
            "Collecting cryptography>=1.3.4\n",
            "  Downloading cryptography-36.0.1-cp36-abi3-manylinux_2_24_x86_64.whl (3.6 MB)\n",
            "\u001b[K     |████████████████████████████████| 3.6 MB 61.3 MB/s \n",
            "\u001b[?25hRequirement already satisfied: cffi>=1.12 in /usr/local/lib/python3.7/dist-packages (from cryptography>=1.3.4->urllib3[secure]~=1.26->selenium) (1.15.0)\n",
            "Requirement already satisfied: pycparser in /usr/local/lib/python3.7/dist-packages (from cffi>=1.12->cryptography>=1.3.4->urllib3[secure]~=1.26->selenium) (2.21)\n",
            "Collecting h11<1,>=0.9.0\n",
            "  Downloading h11-0.13.0-py3-none-any.whl (58 kB)\n",
            "\u001b[K     |████████████████████████████████| 58 kB 5.1 MB/s \n",
            "\u001b[?25hRequirement already satisfied: typing-extensions in /usr/local/lib/python3.7/dist-packages (from h11<1,>=0.9.0->wsproto>=0.14->trio-websocket~=0.9->selenium) (3.10.0.2)\n",
            "Installing collected packages: sniffio, outcome, h11, cryptography, async-generator, wsproto, urllib3, trio, pyOpenSSL, trio-websocket, selenium\n",
            "  Attempting uninstall: urllib3\n",
            "    Found existing installation: urllib3 1.24.3\n",
            "    Uninstalling urllib3-1.24.3:\n",
            "      Successfully uninstalled urllib3-1.24.3\n",
            "\u001b[31mERROR: pip's dependency resolver does not currently take into account all the packages that are installed. This behaviour is the source of the following dependency conflicts.\n",
            "requests 2.23.0 requires urllib3!=1.25.0,!=1.25.1,<1.26,>=1.21.1, but you have urllib3 1.26.8 which is incompatible.\n",
            "datascience 0.10.6 requires folium==0.2.1, but you have folium 0.8.3 which is incompatible.\u001b[0m\n",
            "Successfully installed async-generator-1.10 cryptography-36.0.1 h11-0.13.0 outcome-1.1.0 pyOpenSSL-22.0.0 selenium-4.1.0 sniffio-1.2.0 trio-0.19.0 trio-websocket-0.9.2 urllib3-1.26.8 wsproto-1.0.0\n"
          ]
        }
      ]
    },
    {
      "cell_type": "code",
      "source": [
        "! pip folium"
      ],
      "metadata": {
        "colab": {
          "base_uri": "https://localhost:8080/"
        },
        "id": "8uYhePazltns",
        "outputId": "1e9a3b6e-8df5-45e6-b6f2-ed5c08de3756"
      },
      "execution_count": null,
      "outputs": [
        {
          "output_type": "stream",
          "name": "stdout",
          "text": [
            "ERROR: unknown command \"folium\"\n"
          ]
        }
      ]
    },
    {
      "cell_type": "code",
      "source": [
        "! pip install selenium"
      ],
      "metadata": {
        "colab": {
          "base_uri": "https://localhost:8080/"
        },
        "id": "i8zVGw9ME7QU",
        "outputId": "3c4e6a09-6f0b-4e4b-e4ea-07b9c066c474"
      },
      "execution_count": null,
      "outputs": [
        {
          "output_type": "stream",
          "name": "stdout",
          "text": [
            "Collecting selenium\n",
            "  Downloading selenium-4.1.0-py3-none-any.whl (958 kB)\n",
            "\u001b[K     |████████████████████████████████| 958 kB 26.2 MB/s \n",
            "\u001b[?25hCollecting trio~=0.17\n",
            "  Downloading trio-0.19.0-py3-none-any.whl (356 kB)\n",
            "\u001b[K     |████████████████████████████████| 356 kB 52.3 MB/s \n",
            "\u001b[?25hCollecting urllib3[secure]~=1.26\n",
            "  Downloading urllib3-1.26.8-py2.py3-none-any.whl (138 kB)\n",
            "\u001b[K     |████████████████████████████████| 138 kB 56.5 MB/s \n",
            "\u001b[?25hCollecting trio-websocket~=0.9\n",
            "  Downloading trio_websocket-0.9.2-py3-none-any.whl (16 kB)\n",
            "Requirement already satisfied: attrs>=19.2.0 in /usr/local/lib/python3.7/dist-packages (from trio~=0.17->selenium) (21.4.0)\n",
            "Collecting async-generator>=1.9\n",
            "  Downloading async_generator-1.10-py3-none-any.whl (18 kB)\n",
            "Collecting outcome\n",
            "  Downloading outcome-1.1.0-py2.py3-none-any.whl (9.7 kB)\n",
            "Requirement already satisfied: sortedcontainers in /usr/local/lib/python3.7/dist-packages (from trio~=0.17->selenium) (2.4.0)\n",
            "Requirement already satisfied: idna in /usr/local/lib/python3.7/dist-packages (from trio~=0.17->selenium) (2.10)\n",
            "Collecting sniffio\n",
            "  Downloading sniffio-1.2.0-py3-none-any.whl (10 kB)\n",
            "Collecting wsproto>=0.14\n",
            "  Downloading wsproto-1.0.0-py3-none-any.whl (24 kB)\n",
            "Collecting pyOpenSSL>=0.14\n",
            "  Downloading pyOpenSSL-22.0.0-py2.py3-none-any.whl (55 kB)\n",
            "\u001b[K     |████████████████████████████████| 55 kB 4.0 MB/s \n",
            "\u001b[?25hCollecting cryptography>=1.3.4\n",
            "  Downloading cryptography-36.0.1-cp36-abi3-manylinux_2_24_x86_64.whl (3.6 MB)\n",
            "\u001b[K     |████████████████████████████████| 3.6 MB 43.4 MB/s \n",
            "\u001b[?25hRequirement already satisfied: certifi in /usr/local/lib/python3.7/dist-packages (from urllib3[secure]~=1.26->selenium) (2021.10.8)\n",
            "Requirement already satisfied: cffi>=1.12 in /usr/local/lib/python3.7/dist-packages (from cryptography>=1.3.4->urllib3[secure]~=1.26->selenium) (1.15.0)\n",
            "Requirement already satisfied: pycparser in /usr/local/lib/python3.7/dist-packages (from cffi>=1.12->cryptography>=1.3.4->urllib3[secure]~=1.26->selenium) (2.21)\n",
            "Collecting h11<1,>=0.9.0\n",
            "  Downloading h11-0.13.0-py3-none-any.whl (58 kB)\n",
            "\u001b[K     |████████████████████████████████| 58 kB 5.7 MB/s \n",
            "\u001b[?25hRequirement already satisfied: typing-extensions in /usr/local/lib/python3.7/dist-packages (from h11<1,>=0.9.0->wsproto>=0.14->trio-websocket~=0.9->selenium) (3.10.0.2)\n",
            "Installing collected packages: sniffio, outcome, h11, cryptography, async-generator, wsproto, urllib3, trio, pyOpenSSL, trio-websocket, selenium\n",
            "  Attempting uninstall: urllib3\n",
            "    Found existing installation: urllib3 1.24.3\n",
            "    Uninstalling urllib3-1.24.3:\n",
            "      Successfully uninstalled urllib3-1.24.3\n",
            "\u001b[31mERROR: pip's dependency resolver does not currently take into account all the packages that are installed. This behaviour is the source of the following dependency conflicts.\n",
            "requests 2.23.0 requires urllib3!=1.25.0,!=1.25.1,<1.26,>=1.21.1, but you have urllib3 1.26.8 which is incompatible.\n",
            "datascience 0.10.6 requires folium==0.2.1, but you have folium 0.8.3 which is incompatible.\u001b[0m\n",
            "Successfully installed async-generator-1.10 cryptography-36.0.1 h11-0.13.0 outcome-1.1.0 pyOpenSSL-22.0.0 selenium-4.1.0 sniffio-1.2.0 trio-0.19.0 trio-websocket-0.9.2 urllib3-1.26.8 wsproto-1.0.0\n"
          ]
        }
      ]
    },
    {
      "cell_type": "code",
      "source": [
        "import numpy as np\n",
        "import sys\n",
        "from selenium import webdriver\n",
        "from selenium.webdriver.chrome import Service\n",
        "from bs4 import BeautifulSoup\n"
      ],
      "metadata": {
        "colab": {
          "base_uri": "https://localhost:8080/",
          "height": 713
        },
        "id": "l0BoBzNywYfo",
        "outputId": "68a9f31b-806c-4135-dd05-35f2af685c77"
      },
      "execution_count": null,
      "outputs": [
        {
          "output_type": "error",
          "ename": "ImportError",
          "evalue": "ignored",
          "traceback": [
            "\u001b[0;31m---------------------------------------------------------------------------\u001b[0m",
            "\u001b[0;31mImportError\u001b[0m                               Traceback (most recent call last)",
            "\u001b[0;32m<ipython-input-4-4ac670afe575>\u001b[0m in \u001b[0;36m<module>\u001b[0;34m()\u001b[0m\n\u001b[1;32m      2\u001b[0m \u001b[0;32mimport\u001b[0m \u001b[0msys\u001b[0m\u001b[0;34m\u001b[0m\u001b[0;34m\u001b[0m\u001b[0m\n\u001b[1;32m      3\u001b[0m \u001b[0;32mfrom\u001b[0m \u001b[0mselenium\u001b[0m \u001b[0;32mimport\u001b[0m \u001b[0mwebdriver\u001b[0m\u001b[0;34m\u001b[0m\u001b[0;34m\u001b[0m\u001b[0m\n\u001b[0;32m----> 4\u001b[0;31m \u001b[0;32mfrom\u001b[0m \u001b[0mselenium\u001b[0m\u001b[0;34m.\u001b[0m\u001b[0mwebdriver\u001b[0m\u001b[0;34m.\u001b[0m\u001b[0mchrome\u001b[0m \u001b[0;32mimport\u001b[0m \u001b[0mService\u001b[0m\u001b[0;34m\u001b[0m\u001b[0;34m\u001b[0m\u001b[0m\n\u001b[0m\u001b[1;32m      5\u001b[0m \u001b[0;32mfrom\u001b[0m \u001b[0mbs4\u001b[0m \u001b[0;32mimport\u001b[0m \u001b[0mBeautifulSoup\u001b[0m\u001b[0;34m\u001b[0m\u001b[0;34m\u001b[0m\u001b[0m\n",
            "\u001b[0;31mImportError\u001b[0m: cannot import name 'Service' from 'selenium.webdriver.chrome' (/usr/local/lib/python3.7/dist-packages/selenium/webdriver/chrome/__init__.py)",
            "",
            "\u001b[0;31m---------------------------------------------------------------------------\u001b[0;32m\nNOTE: If your import is failing due to a missing package, you can\nmanually install dependencies using either !pip or !apt.\n\nTo view examples of installing some common dependencies, click the\n\"Open Examples\" button below.\n\u001b[0;31m---------------------------------------------------------------------------\u001b[0m\n"
          ],
          "errorDetails": {
            "actions": [
              {
                "action": "open_url",
                "actionText": "Open Examples",
                "url": "/notebooks/snippets/importing_libraries.ipynb"
              }
            ]
          }
        }
      ]
    }
  ]
}