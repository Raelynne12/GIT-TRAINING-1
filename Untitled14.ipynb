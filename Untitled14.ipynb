{
  "nbformat": 4,
  "nbformat_minor": 0,
  "metadata": {
    "colab": {
      "name": "Untitled14.ipynb",
      "provenance": [],
      "authorship_tag": "ABX9TyMbXltqG8Wy6RPaH8VC5OTW",
      "include_colab_link": true
    },
    "kernelspec": {
      "name": "python3",
      "display_name": "Python 3"
    },
    "language_info": {
      "name": "python"
    }
  },
  "cells": [
    {
      "cell_type": "markdown",
      "metadata": {
        "id": "view-in-github",
        "colab_type": "text"
      },
      "source": [
        "<a href=\"https://colab.research.google.com/github/Raelynne12/GIT-TRAINING-1/blob/master/Untitled14.ipynb\" target=\"_parent\"><img src=\"https://colab.research.google.com/assets/colab-badge.svg\" alt=\"Open In Colab\"/></a>"
      ]
    },
    {
      "cell_type": "code",
      "execution_count": null,
      "metadata": {
        "id": "hk5ILWCWDy5U"
      },
      "outputs": [],
      "source": [
        "#오늘은 쉬는 날 \n",
        "# 데이터 과학자 되는 법 독서하는 날"
      ]
    },
    {
      "cell_type": "code",
      "source": [
        "# 3월 6일\n",
        "# 빅데이터 분석 기사 필기 1과목 챕터 2 부분 공부함\n",
        "# 근데 노트북을 놓고 와서 내일 독서실 가서 정리 예정"
      ],
      "metadata": {
        "id": "GlM626orUpgU"
      },
      "execution_count": 1,
      "outputs": []
    }
  ]
}