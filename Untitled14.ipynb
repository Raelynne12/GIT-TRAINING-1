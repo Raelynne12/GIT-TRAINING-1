{
  "nbformat": 4,
  "nbformat_minor": 0,
  "metadata": {
    "colab": {
      "name": "Untitled14.ipynb",
      "provenance": [],
      "authorship_tag": "ABX9TyMTrrRKzOn+gaGXrTwqzZRl",
      "include_colab_link": true
    },
    "kernelspec": {
      "name": "python3",
      "display_name": "Python 3"
    },
    "language_info": {
      "name": "python"
    }
  },
  "cells": [
    {
      "cell_type": "markdown",
      "metadata": {
        "id": "view-in-github",
        "colab_type": "text"
      },
      "source": [
        "<a href=\"https://colab.research.google.com/github/Raelynne12/GIT-TRAINING-1/blob/master/Untitled14.ipynb\" target=\"_parent\"><img src=\"https://colab.research.google.com/assets/colab-badge.svg\" alt=\"Open In Colab\"/></a>"
      ]
    },
    {
      "cell_type": "code",
      "execution_count": null,
      "metadata": {
        "id": "hk5ILWCWDy5U"
      },
      "outputs": [],
      "source": [
        "#오늘은 쉬는 날 \n",
        "# 데이터 과학자 되는 법 독서하는 날"
      ]
    },
    {
      "cell_type": "code",
      "source": [
        "#4월  10일\n",
        "# 오늘만 쉬고 애일부터 공부"
      ],
      "metadata": {
        "id": "ABw8FxcgzD-6"
      },
      "execution_count": null,
      "outputs": []
    },
    {
      "cell_type": "code",
      "source": [
        "# 3월 9일\n",
        "# 오늘은 선거날~\n",
        "# 오늘은 타지에 있러서 못함"
      ],
      "metadata": {
        "id": "JZU6HQaZ4gSO"
      },
      "execution_count": null,
      "outputs": []
    },
    {
      "cell_type": "code",
      "source": [
        "# 3월 11일\n",
        "# 식사했던 친구 코로나 때문에 방 밖에 못나와서\n",
        "# 타이포라로 공부한 내용 못옮김 ㅠㅠ"
      ],
      "metadata": {
        "id": "5tJw5LaCQYVx"
      },
      "execution_count": null,
      "outputs": []
    },
    {
      "cell_type": "code",
      "source": [
        "# 3월 6일\n",
        "# 빅데이터 분석 기사 필기 1과목 챕터 2 부분 공부함\n",
        "# 근데 노트북을 놓고 와서 내일 독서실 가서 정리 예정"
      ],
      "metadata": {
        "id": "GlM626orUpgU"
      },
      "execution_count": null,
      "outputs": []
    },
    {
      "cell_type": "code",
      "source": [
        "#3월 8일\n",
        "# 빅데이터 분석 기사 필기 2과목 시작함. 근데 노트북을 놓고 와서 지금 깃허브에 못올림ㅠ\n",
        "# 내일 정리한 거랑 내일모레 공부한 거 올릴 예정\n"
      ],
      "metadata": {
        "id": "saTK63u7QZQO"
      },
      "execution_count": null,
      "outputs": []
    },
    {
      "cell_type": "code",
      "source": [
        "# 3월 15일\n",
        "# 격리가 끝나서 집 대청소하느라 공부도 많이 못하고\n",
        "# 타래포라에이베낄 시간이 없었음\n",
        "# 오늘 eda 분석과베이상치, 그리고 상관관계분석까지 함"
      ],
      "metadata": {
        "id": "kaBFEnz416ua"
      },
      "execution_count": null,
      "outputs": []
    },
    {
      "cell_type": "code",
      "source": [
        "# 3월 17일\n",
        "# 오늘은 집에서 공부하는 날\n",
        "# 내일 노트북으루 공부한 거 올릴 예정"
      ],
      "metadata": {
        "id": "VdJbKAEdhuRF"
      },
      "execution_count": null,
      "outputs": []
    },
    {
      "cell_type": "code",
      "source": [
        "# 3월 19일\n",
        "# 오늘은 친구 생일\n",
        "\n",
        "# 3월 20일\n",
        "# 노트북을 독서실에 두고 와서 여기다 씀\n",
        "# 2과목 완료(기술통계, 추론통계)\n",
        "\n",
        "# 3월 21일\n",
        "# 2과목을 완벽히 이해하는 것을 일단 미루도(너무 어려워,..)\n",
        "# 3과목 공부시작\n",
        "\n",
        "#3월 24일\n",
        "#노트북 안챙김(3과목 완료)\n",
        "\n",
        "#3월 26일\n",
        "# 서울로 잠시 왔다가는 날"
      ],
      "metadata": {
        "id": "e1Tg1iht3plM"
      },
      "execution_count": null,
      "outputs": []
    },
    {
      "cell_type": "code",
      "source": [
        "# 3월 31일\n",
        "# 독서실 마지막 날이라 놑북 빼고 오느라 타이포라로 정리못함\n",
        "# 4과목 마지막까지 다 공부했고 모의고사 1회 2과목까지 완료"
      ],
      "metadata": {
        "id": "KUDAVryaS2OK"
      },
      "execution_count": null,
      "outputs": []
    },
    {
      "cell_type": "code",
      "source": [
        "#4월 2일\n",
        "#모의고사 2회 오답정리 놑북에 못옮김 ㅠㅠ 생각보다\n",
        "# 많이 틀려서 정리하기 바빠아\n",
        "\n",
        "#4월 3일\n",
        "#운동하러 가서 놑북을 못가져감\n",
        "\n",
        "# 4월 5일\n",
        "# 시험 며칠 안남아서 오답정리를 놑죽으로 옮길 새가 없움"
      ],
      "metadata": {
        "id": "CK1DuMDxrdbP"
      },
      "execution_count": null,
      "outputs": []
    },
    {
      "cell_type": "code",
      "source": [
        "# 4월 6일\n",
        "# 700제 푸느라 정신없음. 시험 후 공부한 사진 업로드 예정"
      ],
      "metadata": {
        "id": "1_1lQl3nzFng"
      },
      "execution_count": null,
      "outputs": []
    },
    {
      "cell_type": "code",
      "source": [
        "#4월 8일\n",
        "# 드디어 내일 시험!!!!!!! 커피 그만 마시고 쉬고시퍼어어어엉\n",
        "\n",
        "# 4월 7일\n",
        "# 2과목 기초통계 추론통계 보는 중\n",
        "\n",
        "# 4월 9일\n",
        "# 망한 것 같다... 생전 듣도보도 못한 걸 보여주네.."
      ],
      "metadata": {
        "id": "mVVM8rAa__wj"
      },
      "execution_count": null,
      "outputs": []
    },
    {
      "cell_type": "code",
      "source": [
        "# 4월 11일\n",
        "# 오늘이랑 내일 쉬는 날\n",
        "#내일부터는 정처기 실기 준비 (책이 수요일에 도착 예정) 내일부터 윤영이랑 스터디 예정 - 5월 7일 시험"
      ],
      "metadata": {
        "id": "_CcpAF3AAHTo"
      },
      "execution_count": null,
      "outputs": []
    },
    {
      "cell_type": "code",
      "source": [
        "# 4월 20일\n",
        "# 프로그래밍 언어 및 활용 부분 공부함(정처기 실기)"
      ],
      "metadata": {
        "id": "_UJzCHFGUjMK"
      },
      "execution_count": 1,
      "outputs": []
    }
  ]
}